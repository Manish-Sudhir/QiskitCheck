{
 "cells": [
  {
   "cell_type": "code",
   "execution_count": 2,
   "metadata": {},
   "outputs": [],
   "source": [
    "import warnings\n",
    "from qiskit import QuantumRegister, ClassicalRegister\n",
    "from qiskit import QuantumCircuit, execute, Aer, transpile, IBMQ\n",
    "from qiskit.tools.monitor import job_monitor\n",
    "from qiskit.circuit.library import QFT\n",
    "from qiskit.visualization import plot_histogram, plot_bloch_multivector\n",
    "warnings.filterwarnings(\"ignore\", category=DeprecationWarning)\n",
    "import numpy as np\n",
    "import math\n",
    "\n",
    "pi = np.pi"
   ]
  },
  {
   "cell_type": "code",
   "execution_count": 4,
   "metadata": {},
   "outputs": [],
   "source": [
    "def set_measure_x(circuit, n):\n",
    "    for num in range(n):\n",
    "        circuit.h(num)\n",
    "\n",
    "def set_measure_y(circuit, n):\n",
    "    for num in range(n):\n",
    "        circuit.sdg(num)\n",
    "        circuit.h(num)"
   ]
  },
  {
   "cell_type": "code",
   "execution_count": 5,
   "metadata": {},
   "outputs": [
    {
     "name": "stdout",
     "output_type": "stream",
     "text": [
      "     ┌───┐\n",
      "q_0: ┤ X ├\n",
      "     ├───┤\n",
      "q_1: ┤ X ├\n",
      "     └───┘\n",
      "q_2: ─────\n",
      "     ┌───┐\n",
      "q_3: ┤ X ├\n",
      "     └───┘\n",
      "{'1111': 49, '1010': 60, '0001': 66, '1001': 69, '0111': 60, '0100': 57, '1011': 61, '1100': 61, '0011': 43, '0101': 66, '1110': 69, '1000': 66, '0000': 76, '0010': 60, '1101': 70, '0110': 67}\n",
      "0000\n"
     ]
    }
   ],
   "source": [
    "def qft_rotations(circuit, n):\n",
    "    #if qubit amount is 0, then do nothing and return\n",
    "    if n == 0:\n",
    "        #set it to measure the x axis\n",
    "        # set_measure_x(qc, 4)\n",
    "        # qc.measure_all()\n",
    "        return circuit\n",
    "    n -= 1\n",
    "    circuit.h(n)\n",
    "    for qubit in range(n):\n",
    "        circuit.cp(pi/2**(n-qubit), qubit, n)\n",
    "    return qft_rotations(circuit, n)\n",
    "\n",
    "backend = Aer.get_backend('aer_simulator') \n",
    "qc = QuantumCircuit(4)\n",
    "\n",
    "qc.x(0)\n",
    "qc.x(1)\n",
    "qc.x(3)\n",
    "print(qc)\n",
    "\n",
    "qft_rotations(qc,4)#call the recursive qft method\n",
    "#set it to measure the x axis\n",
    "qc.measure_all()\n",
    "job = execute(qc, backend, shots=1000)#run the circuit 1000000 times\n",
    "counts = job.result().get_counts()#return the result counts\n",
    "print(counts)\n",
    "print(max(counts, key=counts.get))"
   ]
  },
  {
   "cell_type": "code",
   "execution_count": 6,
   "metadata": {},
   "outputs": [
    {
     "name": "stdout",
     "output_type": "stream",
     "text": [
      "        ┌───┐ ░ ┌─┐         \n",
      "   q_0: ┤ X ├─░─┤M├─────────\n",
      "        ├───┤ ░ └╥┘┌─┐      \n",
      "   q_1: ┤ X ├─░──╫─┤M├──────\n",
      "        └───┘ ░  ║ └╥┘┌─┐   \n",
      "   q_2: ──────░──╫──╫─┤M├───\n",
      "              ░  ║  ║ └╥┘┌─┐\n",
      "   q_3: ──────░──╫──╫──╫─┤M├\n",
      "              ░  ║  ║  ║ └╥┘\n",
      "meas: 4/═════════╩══╩══╩══╩═\n",
      "                 0  1  2  3 \n",
      "{'0011': 1000000}\n",
      "1100\n",
      "<class 'str'>\n",
      "0011\n",
      "1100\n",
      "True\n"
     ]
    }
   ],
   "source": [
    "def qft_dagger(qc, n):\n",
    "    for j in range(n):\n",
    "        for m in range(j):\n",
    "            qc.cp(math.pi/float(2**(j-m)), m, j)\n",
    "        qc.h(j)\n",
    "\n",
    "qc = QuantumCircuit(4)\n",
    "\n",
    "# qc.x(0)\n",
    "qc.x(0)\n",
    "qc.x(1)\n",
    "qc.measure_all()\n",
    "print(qc)\n",
    "\n",
    "qft_dagger(qc,4)#call the recursive qft method\n",
    "\n",
    "backend = Aer.get_backend('aer_simulator') \n",
    "job = execute(qc, backend, shots=1000000)#run the circuit 1000000 times\n",
    "counts = job.result().get_counts()\n",
    "print(counts)#return the result counts\n",
    "highest = max(counts, key=counts.get)\n",
    "reverse = highest[::-1]\n",
    "print(reverse)\n",
    "print(type(highest))\n",
    "print(str(highest))\n",
    "\n",
    "lol3 = [0,1]\n",
    "yes1 = [0,0,0,0]\n",
    "for i in lol3:\n",
    "    qc.x(i)\n",
    "    yes1[i] = 1\n",
    "answer = ''.join(map(str,yes1))\n",
    "print(answer)\n",
    "\n",
    "if (reverse == answer):\n",
    "    print(\"True\")\n",
    "else:\n",
    "    print(\"False\")"
   ]
  },
  {
   "cell_type": "code",
   "execution_count": 61,
   "metadata": {},
   "outputs": [
    {
     "name": "stdout",
     "output_type": "stream",
     "text": [
      "<qiskit.circuit.instructionset.InstructionSet object at 0x000002808013E8C0>\n",
      "{'100': 252, '011': 255, '101': 265, '010': 263, '110': 255, '000': 269, '111': 254, '001': 235}\n"
     ]
    }
   ],
   "source": [
    "#OTHER QFT \n",
    "def qft_rotations(circuit, n):\n",
    "    \"\"\"Performs qft on the first n qubits in circuit (without swaps)\"\"\"\n",
    "    if n == 0:\n",
    "        # set_measure_x(qc, 3)\n",
    "        # set_measure_y(qc,3)\n",
    "        # qc.measure_all()\n",
    "        return circuit\n",
    "    n -= 1\n",
    "    circuit.h(n)\n",
    "    for qubit in range(n):\n",
    "        circuit.cp(pi/2**(n-qubit), qubit, n)\n",
    "    # At the end of our function, we call the same function again on\n",
    "    # the next qubits (we reduced n by one earlier in the function)\n",
    "    qft_rotations(circuit, n)\n",
    "\n",
    "# Let's see how it looks:\n",
    "qc = QuantumCircuit(3)\n",
    "qc.x(0)\n",
    "qc.x(2)\n",
    "\n",
    "lol= [0,0,0]\n",
    "\n",
    "print(lol)\n",
    "qft_rotations(qc,3)\n",
    "qc.measure_all()\n",
    "qc.draw()\n",
    "\n",
    "# set_measure_x(qc, 3)\n",
    "backend = Aer.get_backend('aer_simulator') \n",
    "job = execute(qc, backend, shots=2048)\n",
    "counts = job.result().get_counts()\n",
    "print(counts)"
   ]
  },
  {
   "cell_type": "code",
   "execution_count": 10,
   "metadata": {},
   "outputs": [
    {
     "data": {
      "text/html": [
       "<pre style=\"word-wrap: normal;white-space: pre;background: #fff0;line-height: 1.1;font-family: &quot;Courier New&quot;,Courier,monospace\">     ┌───┐                                     ┌───┐   \n",
       "q_0: ┤ X ├──────■──────────────────────■───────┤ H ├─X─\n",
       "     └───┘      │                ┌───┐ │P(π/2) └───┘ │ \n",
       "q_1: ───────────┼────────■───────┤ H ├─■─────────────┼─\n",
       "     ┌───┐┌───┐ │P(π/4)  │P(π/2) └───┘               │ \n",
       "q_2: ┤ X ├┤ H ├─■────────■───────────────────────────X─\n",
       "     └───┘└───┘                                        </pre>"
      ],
      "text/plain": [
       "     ┌───┐                                     ┌───┐   \n",
       "q_0: ┤ X ├──────■──────────────────────■───────┤ H ├─X─\n",
       "     └───┘      │                ┌───┐ │P(π/2) └───┘ │ \n",
       "q_1: ───────────┼────────■───────┤ H ├─■─────────────┼─\n",
       "     ┌───┐┌───┐ │P(π/4)  │P(π/2) └───┘               │ \n",
       "q_2: ┤ X ├┤ H ├─■────────■───────────────────────────X─\n",
       "     └───┘└───┘                                        "
      ]
     },
     "execution_count": 10,
     "metadata": {},
     "output_type": "execute_result"
    }
   ],
   "source": [
    "def swap_registers(circuit, n):\n",
    "    for qubit in range(n//2):\n",
    "        circuit.swap(qubit, n-qubit-1)\n",
    "    return circuit\n",
    "\n",
    "def qft(circuit, n):\n",
    "    \"\"\"QFT on the first n qubits in circuit\"\"\"\n",
    "    qft_rotations(circuit, n)\n",
    "    swap_registers(circuit, n)\n",
    "    return circuit\n",
    "\n",
    "# Let's see how it looks:\n",
    "qc = QuantumCircuit(3)\n",
    "qc.x(0)\n",
    "qc.x(2)\n",
    "qft(qc,3)\n",
    "\n",
    "qc.draw()"
   ]
  },
  {
   "cell_type": "code",
   "execution_count": 25,
   "metadata": {},
   "outputs": [
    {
     "data": {
      "text/html": [
       "<pre style=\"word-wrap: normal;white-space: pre;background: #fff0;line-height: 1.1;font-family: &quot;Courier New&quot;,Courier,monospace\">     ┌───┐┌─────────┐\n",
       "q_0: ┤ H ├┤ P(5π/4) ├\n",
       "     ├───┤├─────────┤\n",
       "q_1: ┤ H ├┤ P(5π/2) ├\n",
       "     ├───┤└┬───────┬┘\n",
       "q_2: ┤ H ├─┤ P(5π) ├─\n",
       "     └───┘ └───────┘ </pre>"
      ],
      "text/plain": [
       "     ┌───┐┌─────────┐\n",
       "q_0: ┤ H ├┤ P(5π/4) ├\n",
       "     ├───┤├─────────┤\n",
       "q_1: ┤ H ├┤ P(5π/2) ├\n",
       "     ├───┤└┬───────┬┘\n",
       "q_2: ┤ H ├─┤ P(5π) ├─\n",
       "     └───┘ └───────┘ "
      ]
     },
     "execution_count": 25,
     "metadata": {},
     "output_type": "execute_result"
    }
   ],
   "source": [
    "def inverse_qft(circuit, n):\n",
    "    \"\"\"Does the inverse QFT on the first n qubits in circuit\"\"\"\n",
    "    # First we create a QFT circuit of the correct size:\n",
    "    qft_circ = qft(QuantumCircuit(n), n)\n",
    "    # Then we take the inverse of this circuit\n",
    "    invqft_circ = qft_circ.inverse()\n",
    "    # And add it to the first n qubits in our existing circuit\n",
    "    circuit.append(invqft_circ, circuit.qubits[:n])\n",
    "    return circuit.decompose() # .decompose() allows us to see the individual gates\n",
    "    \n",
    "nqubits = 3\n",
    "number = 5\n",
    "qc = QuantumCircuit(nqubits)\n",
    "for qubit in range(nqubits):\n",
    "    qc.h(qubit)\n",
    "qc.p(number*pi/4,0)\n",
    "qc.p(number*pi/2,1)\n",
    "qc.p(number*pi,2)\n",
    "\n",
    "qc.draw()"
   ]
  },
  {
   "cell_type": "code",
   "execution_count": 26,
   "metadata": {},
   "outputs": [
    {
     "data": {
      "text/html": [
       "<pre style=\"word-wrap: normal;white-space: pre;background: #fff0;line-height: 1.1;font-family: &quot;Courier New&quot;,Courier,monospace\">        ┌─────────┐┌─────────────┐   ┌───┐                                   »\n",
       "   q_0: ┤ U2(0,π) ├┤ U(0,0,5π/4) ├─X─┤ H ├─■────────────────────────■────────»\n",
       "        ├─────────┤├─────────────┤ │ └───┘ │P(-π/2) ┌───┐           │        »\n",
       "   q_1: ┤ U2(0,π) ├┤ U(0,0,5π/2) ├─┼───────■────────┤ H ├─■─────────┼────────»\n",
       "        ├─────────┤└┬───────────┬┘ │                └───┘ │P(-π/2)  │P(-π/4) »\n",
       "   q_2: ┤ U2(0,π) ├─┤ U(0,0,5π) ├──X──────────────────────■─────────■────────»\n",
       "        └─────────┘ └───────────┘                                            »\n",
       "meas: 3/═════════════════════════════════════════════════════════════════════»\n",
       "                                                                             »\n",
       "«              ░ ┌─┐      \n",
       "«   q_0: ──────░─┤M├──────\n",
       "«              ░ └╥┘┌─┐   \n",
       "«   q_1: ──────░──╫─┤M├───\n",
       "«        ┌───┐ ░  ║ └╥┘┌─┐\n",
       "«   q_2: ┤ H ├─░──╫──╫─┤M├\n",
       "«        └───┘ ░  ║  ║ └╥┘\n",
       "«meas: 3/═════════╩══╩══╩═\n",
       "«                 0  1  2 </pre>"
      ],
      "text/plain": [
       "        ┌─────────┐┌─────────────┐   ┌───┐                                   »\n",
       "   q_0: ┤ U2(0,π) ├┤ U(0,0,5π/4) ├─X─┤ H ├─■────────────────────────■────────»\n",
       "        ├─────────┤├─────────────┤ │ └───┘ │P(-π/2) ┌───┐           │        »\n",
       "   q_1: ┤ U2(0,π) ├┤ U(0,0,5π/2) ├─┼───────■────────┤ H ├─■─────────┼────────»\n",
       "        ├─────────┤└┬───────────┬┘ │                └───┘ │P(-π/2)  │P(-π/4) »\n",
       "   q_2: ┤ U2(0,π) ├─┤ U(0,0,5π) ├──X──────────────────────■─────────■────────»\n",
       "        └─────────┘ └───────────┘                                            »\n",
       "meas: 3/═════════════════════════════════════════════════════════════════════»\n",
       "                                                                             »\n",
       "«              ░ ┌─┐      \n",
       "«   q_0: ──────░─┤M├──────\n",
       "«              ░ └╥┘┌─┐   \n",
       "«   q_1: ──────░──╫─┤M├───\n",
       "«        ┌───┐ ░  ║ └╥┘┌─┐\n",
       "«   q_2: ┤ H ├─░──╫──╫─┤M├\n",
       "«        └───┘ ░  ║  ║ └╥┘\n",
       "«meas: 3/═════════╩══╩══╩═\n",
       "«                 0  1  2 "
      ]
     },
     "execution_count": 26,
     "metadata": {},
     "output_type": "execute_result"
    }
   ],
   "source": [
    "qc = inverse_qft(qc, nqubits)\n",
    "qc.measure_all()\n",
    "qc.draw()"
   ]
  },
  {
   "cell_type": "code",
   "execution_count": 27,
   "metadata": {},
   "outputs": [
    {
     "name": "stdout",
     "output_type": "stream",
     "text": [
      "Job Status: job has successfully run\n",
      "{'101': 2048}\n"
     ]
    }
   ],
   "source": [
    "backend = Aer.get_backend('aer_simulator') \n",
    "shots = 2048\n",
    "transpiled_qc = transpile(qc, backend, optimization_level=3)\n",
    "# transpiled_qc = transpile(qc, backend)\n",
    "job = backend.run(transpiled_qc, shots=shots)\n",
    "job_monitor(job)\n",
    "counts = job.result().get_counts()\n",
    "print(counts)"
   ]
  },
  {
   "cell_type": "code",
   "execution_count": 100,
   "metadata": {},
   "outputs": [
    {
     "name": "stdout",
     "output_type": "stream",
     "text": [
      "Collecting hypothesis\n",
      "  Downloading hypothesis-6.36.1-py3-none-any.whl (376 kB)\n",
      "Requirement already satisfied: attrs>=19.2.0 in c:\\users\\q\\anaconda3\\lib\\site-packages (from hypothesis) (21.2.0)\n",
      "Requirement already satisfied: sortedcontainers<3.0.0,>=2.1.0 in c:\\users\\q\\anaconda3\\lib\\site-packages (from hypothesis) (2.4.0)\n",
      "Installing collected packages: hypothesis\n",
      "Successfully installed hypothesis-6.36.1\n",
      "Note: you may need to restart the kernel to use updated packages.\n"
     ]
    },
    {
     "name": "stderr",
     "output_type": "stream",
     "text": [
      "WARNING: Ignoring invalid distribution -atplotlib (c:\\users\\q\\anaconda3\\lib\\site-packages)\n",
      "WARNING: Ignoring invalid distribution -atplotlib (c:\\users\\q\\anaconda3\\lib\\site-packages)\n",
      "WARNING: Ignoring invalid distribution -atplotlib (c:\\users\\q\\anaconda3\\lib\\site-packages)\n",
      "WARNING: Ignoring invalid distribution -atplotlib (c:\\users\\q\\anaconda3\\lib\\site-packages)\n",
      "WARNING: Ignoring invalid distribution -atplotlib (c:\\users\\q\\anaconda3\\lib\\site-packages)\n",
      "WARNING: Ignoring invalid distribution -atplotlib (c:\\users\\q\\anaconda3\\lib\\site-packages)\n",
      "WARNING: Ignoring invalid distribution -atplotlib (c:\\users\\q\\anaconda3\\lib\\site-packages)\n"
     ]
    }
   ],
   "source": [
    "pip install hypothesis"
   ]
  },
  {
   "cell_type": "code",
   "execution_count": 7,
   "metadata": {},
   "outputs": [],
   "source": [
    "import unittest\n",
    "import hypothesis.strategies as st\n",
    "from hypothesis import given, settings"
   ]
  },
  {
   "cell_type": "code",
   "execution_count": 35,
   "metadata": {},
   "outputs": [
    {
     "name": "stdout",
     "output_type": "stream",
     "text": [
      "[[1, 2, 0], 4]\n"
     ]
    }
   ],
   "source": [
    "# @st.composite\n",
    "# def qubit_combos(draw):\n",
    "#     qubit_string = draw(st.sampled_from(['000','001','010','011','100','101','110','111']))\n",
    "#     return int(qubit_string)\n",
    "\n",
    "# qubit_combos().example()\n",
    "\n",
    "@st.composite\n",
    "def circuit(draw):\n",
    "    nQubits = [0,1,2,3]\n",
    "    nQubitsLength = len(nQubits)\n",
    "    n= draw(st.sampled_from(nQubits))\n",
    "    x1 = []\n",
    "    x1.append(n)\n",
    "    nQubits.remove(n)\n",
    "    m = draw(st.sampled_from(nQubits))\n",
    "    x1.append(m)\n",
    "    nQubits.remove(m)\n",
    "    # l = draw(st.sampled_from(nQubits))\n",
    "    # x1.append(l)\n",
    "    # nQubits.remove(l)\n",
    "    noOfRegisters = nQubitsLength\n",
    "    return [x1,noOfRegisters]\n",
    "print(circuit().example())\n",
    "# ex = circuit().example()\n",
    "# print(type(ex[0]))\n",
    "# print(type(ex[1]))\n",
    "# print(type(ex))\n",
    "\n",
    "# lol = [1,2,0,4,6,0]\n",
    "# for i in lol:\n",
    "#     if i == 0: \n",
    "#         lol.remove(0)\n",
    "# print(lol)"
   ]
  },
  {
   "cell_type": "code",
   "execution_count": 12,
   "metadata": {},
   "outputs": [
    {
     "name": "stdout",
     "output_type": "stream",
     "text": [
      "     ┌───┐\n",
      "q_0: ┤ X ├\n",
      "     ├───┤\n",
      "q_1: ┤ X ├\n",
      "     └───┘\n",
      "q_2: ─────\n",
      "          \n",
      "q_3: ─────\n",
      "          \n",
      "1100\n",
      "0011\n",
      "1100\n",
      "They are equal\n"
     ]
    }
   ],
   "source": [
    "lol2 = [0,1]\n",
    "yes = [0,0,0,0]\n",
    "qc = QuantumCircuit(4)\n",
    "for i in lol2:\n",
    "    qc.x(i)\n",
    "    yes[i] = 1\n",
    "answer = ''.join(map(str,yes))\n",
    "# strings = [str(integer) for integer in yes]\n",
    "# a_string = \"\".join(strings)\n",
    "# an_integer = int(a_string)\n",
    "print (qc)\n",
    "# print(an_integer)\n",
    "print(answer)\n",
    "\n",
    "qc.measure_all()\n",
    "qft_dagger(qc,4)\n",
    "backend = Aer.get_backend('aer_simulator') \n",
    "job = execute(qc, backend, shots=2048)\n",
    "counts = job.result().get_counts()\n",
    "inverseOutput = max(counts, key=counts.get)\n",
    "print(inverseOutput)\n",
    "reverse = inverseOutput[::-1]\n",
    "print(reverse)\n",
    "\n",
    "if(reverse == answer):\n",
    "    print(\"They are equal\")\n"
   ]
  },
  {
   "cell_type": "code",
   "execution_count": 36,
   "metadata": {},
   "outputs": [],
   "source": [
    "@given(circuit())\n",
    "@settings(deadline=None)\n",
    "def test_inverse_holds_true(xList):\n",
    "    x1 = xList[0]\n",
    "    noOfRegisters = xList[1]\n",
    "    baseQubit = [0,0,0,0]\n",
    "    qc= QuantumCircuit(noOfRegisters)\n",
    "    for i in x1:\n",
    "        qc.x(i)\n",
    "        baseQubit[i] = 1\n",
    "    iQFT = ''.join(map(str,baseQubit))\n",
    "    qc.measure_all()\n",
    "    qft_dagger(qc,noOfRegisters)\n",
    "    backend = Aer.get_backend('aer_simulator') \n",
    "    job = execute(qc, backend, shots=2048)\n",
    "    counts = job.result().get_counts()\n",
    "    inverseOutput = max(counts, key=counts.get)\n",
    "    reverse = inverseOutput[::-1]\n",
    "    assert(reverse == iQFT)   "
   ]
  },
  {
   "cell_type": "code",
   "execution_count": 37,
   "metadata": {},
   "outputs": [],
   "source": [
    "if __name__ == \"__main__\":\n",
    "    test_inverse_holds_true()"
   ]
  },
  {
   "cell_type": "code",
   "execution_count": 49,
   "metadata": {},
   "outputs": [],
   "source": [
    "_bits_types = dict() \n",
    "bits_template = \"\"\"\"\"\"\n",
    "\n",
    "def mk_bits( nbits ):\n",
    "  assert nbits > 0, \"We don't allow Bits0\"\n",
    "  # assert nbits < 512, \"We don't allow bitwidth to exceed 512.\"\n",
    "  if nbits not in _bits_types:\n",
    "    custom_exec(compile( bits_template.format(nbits), filename=f\"Bits{nbits}\", mode=\"exec\" ),\n",
    "                globals(), locals() )\n",
    "  return _bits_types[nbits]\n"
   ]
  },
  {
   "cell_type": "code",
   "execution_count": 50,
   "metadata": {},
   "outputs": [],
   "source": [
    "def custom_exec( prog, _globals, _locals ):\n",
    "    assert _globals is not None\n",
    "    assert _locals  is not None\n",
    "\n",
    "    norm_globals = _globals\n",
    "    norm_locals  = _locals\n",
    "    if _globals is not None:\n",
    "      norm_globals = _normalize_dict( _globals )\n",
    "    if _locals is not None:\n",
    "      norm_locals  = _normalize_dict( _locals )\n",
    "\n",
    "    exec( prog, norm_globals, norm_locals )\n",
    "    # Local may have more stuff generated by the code.\n",
    "    # We need to put this back to the original _locals\n",
    "    if _locals is not None:\n",
    "      _locals.update( norm_locals )"
   ]
  },
  {
   "cell_type": "code",
   "execution_count": 51,
   "metadata": {},
   "outputs": [
    {
     "ename": "NameError",
     "evalue": "name '_normalize_dict' is not defined",
     "output_type": "error",
     "traceback": [
      "\u001b[1;31m---------------------------------------------------------------------------\u001b[0m",
      "\u001b[1;31mNameError\u001b[0m                                 Traceback (most recent call last)",
      "\u001b[1;32m~\\AppData\\Local\\Temp/ipykernel_13000/3226916686.py\u001b[0m in \u001b[0;36m<module>\u001b[1;34m\u001b[0m\n\u001b[0;32m     21\u001b[0m   \u001b[1;32mreturn\u001b[0m \u001b[0mstrategy_bits\u001b[0m\u001b[1;33m(\u001b[0m\u001b[1;33m)\u001b[0m\u001b[1;33m.\u001b[0m\u001b[0mexample\u001b[0m\u001b[1;33m(\u001b[0m\u001b[1;33m)\u001b[0m\u001b[1;33m\u001b[0m\u001b[1;33m\u001b[0m\u001b[0m\n\u001b[0;32m     22\u001b[0m \u001b[1;33m\u001b[0m\u001b[0m\n\u001b[1;32m---> 23\u001b[1;33m \u001b[0mbits\u001b[0m\u001b[1;33m(\u001b[0m\u001b[1;36m3\u001b[0m\u001b[1;33m)\u001b[0m\u001b[1;33m.\u001b[0m\u001b[0mexample\u001b[0m\u001b[1;33m(\u001b[0m\u001b[1;33m)\u001b[0m\u001b[1;33m\u001b[0m\u001b[1;33m\u001b[0m\u001b[0m\n\u001b[0m",
      "\u001b[1;32m~\\AppData\\Local\\Temp/ipykernel_13000/3226916686.py\u001b[0m in \u001b[0;36mbits\u001b[1;34m(nbits, signed, min_value, max_value)\u001b[0m\n\u001b[0;32m      1\u001b[0m \u001b[1;32mdef\u001b[0m \u001b[0mbits\u001b[0m\u001b[1;33m(\u001b[0m \u001b[0mnbits\u001b[0m\u001b[1;33m,\u001b[0m \u001b[0msigned\u001b[0m\u001b[1;33m=\u001b[0m\u001b[1;32mFalse\u001b[0m\u001b[1;33m,\u001b[0m \u001b[0mmin_value\u001b[0m\u001b[1;33m=\u001b[0m\u001b[1;32mNone\u001b[0m\u001b[1;33m,\u001b[0m \u001b[0mmax_value\u001b[0m\u001b[1;33m=\u001b[0m\u001b[1;32mNone\u001b[0m \u001b[1;33m)\u001b[0m\u001b[1;33m:\u001b[0m\u001b[1;33m\u001b[0m\u001b[1;33m\u001b[0m\u001b[0m\n\u001b[1;32m----> 2\u001b[1;33m   \u001b[0mBitsN\u001b[0m \u001b[1;33m=\u001b[0m \u001b[0mmk_bits\u001b[0m\u001b[1;33m(\u001b[0m \u001b[0mnbits\u001b[0m \u001b[1;33m)\u001b[0m\u001b[1;33m\u001b[0m\u001b[1;33m\u001b[0m\u001b[0m\n\u001b[0m\u001b[0;32m      3\u001b[0m \u001b[1;33m\u001b[0m\u001b[0m\n\u001b[0;32m      4\u001b[0m   \u001b[1;32mif\u001b[0m \u001b[1;33m(\u001b[0m\u001b[0mmin_value\u001b[0m \u001b[1;32mis\u001b[0m \u001b[1;32mnot\u001b[0m \u001b[1;32mNone\u001b[0m \u001b[1;32mor\u001b[0m \u001b[0mmax_value\u001b[0m \u001b[1;32mis\u001b[0m \u001b[1;32mnot\u001b[0m \u001b[1;32mNone\u001b[0m\u001b[1;33m)\u001b[0m \u001b[1;32mand\u001b[0m \u001b[0msigned\u001b[0m\u001b[1;33m:\u001b[0m\u001b[1;33m\u001b[0m\u001b[1;33m\u001b[0m\u001b[0m\n\u001b[0;32m      5\u001b[0m     raise ValueError(\"bits strategy currently doesn't support setting \"\n",
      "\u001b[1;32m~\\AppData\\Local\\Temp/ipykernel_13000/4183668712.py\u001b[0m in \u001b[0;36mmk_bits\u001b[1;34m(nbits)\u001b[0m\n\u001b[0;32m      6\u001b[0m   \u001b[1;31m# assert nbits < 512, \"We don't allow bitwidth to exceed 512.\"\u001b[0m\u001b[1;33m\u001b[0m\u001b[1;33m\u001b[0m\u001b[0m\n\u001b[0;32m      7\u001b[0m   \u001b[1;32mif\u001b[0m \u001b[0mnbits\u001b[0m \u001b[1;32mnot\u001b[0m \u001b[1;32min\u001b[0m \u001b[0m_bits_types\u001b[0m\u001b[1;33m:\u001b[0m\u001b[1;33m\u001b[0m\u001b[1;33m\u001b[0m\u001b[0m\n\u001b[1;32m----> 8\u001b[1;33m     custom_exec(compile( bits_template.format(nbits), filename=f\"Bits{nbits}\", mode=\"exec\" ),\n\u001b[0m\u001b[0;32m      9\u001b[0m                 globals(), locals() )\n\u001b[0;32m     10\u001b[0m   \u001b[1;32mreturn\u001b[0m \u001b[0m_bits_types\u001b[0m\u001b[1;33m[\u001b[0m\u001b[0mnbits\u001b[0m\u001b[1;33m]\u001b[0m\u001b[1;33m\u001b[0m\u001b[1;33m\u001b[0m\u001b[0m\n",
      "\u001b[1;32m~\\AppData\\Local\\Temp/ipykernel_13000/352989958.py\u001b[0m in \u001b[0;36mcustom_exec\u001b[1;34m(prog, _globals, _locals)\u001b[0m\n\u001b[0;32m      6\u001b[0m     \u001b[0mnorm_locals\u001b[0m  \u001b[1;33m=\u001b[0m \u001b[0m_locals\u001b[0m\u001b[1;33m\u001b[0m\u001b[1;33m\u001b[0m\u001b[0m\n\u001b[0;32m      7\u001b[0m     \u001b[1;32mif\u001b[0m \u001b[0m_globals\u001b[0m \u001b[1;32mis\u001b[0m \u001b[1;32mnot\u001b[0m \u001b[1;32mNone\u001b[0m\u001b[1;33m:\u001b[0m\u001b[1;33m\u001b[0m\u001b[1;33m\u001b[0m\u001b[0m\n\u001b[1;32m----> 8\u001b[1;33m       \u001b[0mnorm_globals\u001b[0m \u001b[1;33m=\u001b[0m \u001b[0m_normalize_dict\u001b[0m\u001b[1;33m(\u001b[0m \u001b[0m_globals\u001b[0m \u001b[1;33m)\u001b[0m\u001b[1;33m\u001b[0m\u001b[1;33m\u001b[0m\u001b[0m\n\u001b[0m\u001b[0;32m      9\u001b[0m     \u001b[1;32mif\u001b[0m \u001b[0m_locals\u001b[0m \u001b[1;32mis\u001b[0m \u001b[1;32mnot\u001b[0m \u001b[1;32mNone\u001b[0m\u001b[1;33m:\u001b[0m\u001b[1;33m\u001b[0m\u001b[1;33m\u001b[0m\u001b[0m\n\u001b[0;32m     10\u001b[0m       \u001b[0mnorm_locals\u001b[0m  \u001b[1;33m=\u001b[0m \u001b[0m_normalize_dict\u001b[0m\u001b[1;33m(\u001b[0m \u001b[0m_locals\u001b[0m \u001b[1;33m)\u001b[0m\u001b[1;33m\u001b[0m\u001b[1;33m\u001b[0m\u001b[0m\n",
      "\u001b[1;31mNameError\u001b[0m: name '_normalize_dict' is not defined"
     ]
    }
   ],
   "source": [
    "def bits( nbits, signed=False, min_value=None, max_value=None ):\n",
    "  BitsN = mk_bits( nbits )\n",
    "\n",
    "  if (min_value is not None or max_value is not None) and signed:\n",
    "    raise ValueError(\"bits strategy currently doesn't support setting \"\n",
    "                     \"signedness and min/max value at the same time\")\n",
    "\n",
    "  if min_value is None:\n",
    "    min_value = (-(2**(nbits-1))) if signed else 0\n",
    "  if max_value is None:\n",
    "    max_value = (2**(nbits-1)-1)  if signed else (2**nbits - 1)\n",
    "\n",
    "  strat = st.booleans() if nbits == 1 else st.integers( min_value, max_value )\n",
    "\n",
    "  @st.composite\n",
    "  def strategy_bits( draw ):\n",
    "    return BitsN( draw( strat ) )\n",
    "    \n",
    "  strategy_bits().example()\n",
    "\n",
    "  return strategy_bits().example()\n",
    "\n",
    "bits(3).example()"
   ]
  },
  {
   "cell_type": "code",
   "execution_count": 21,
   "metadata": {},
   "outputs": [
    {
     "data": {
      "text/plain": [
       "([-83, 86, -83, -1695031671, 25670], 4)"
      ]
     },
     "execution_count": 21,
     "metadata": {},
     "output_type": "execute_result"
    }
   ],
   "source": [
    "@st.composite\n",
    "def list_and_index(draw, elements=st.integers()):\n",
    "    xs = draw(st.lists(elements, min_size=1))\n",
    "    i = draw(st.integers(min_value=0, max_value=len(xs) - 1))\n",
    "    return (xs, i)\n",
    "\n",
    "list_and_index().example()"
   ]
  }
 ],
 "metadata": {
  "interpreter": {
   "hash": "6023886f1f7fa49d492545dd065ff4728d44194d215a755785ea4d43851fbbbd"
  },
  "kernelspec": {
   "display_name": "Python 3.6.13 ('lol')",
   "language": "python",
   "name": "python3"
  },
  "language_info": {
   "codemirror_mode": {
    "name": "ipython",
    "version": 3
   },
   "file_extension": ".py",
   "mimetype": "text/x-python",
   "name": "python",
   "nbconvert_exporter": "python",
   "pygments_lexer": "ipython3",
   "version": "3.9.7"
  },
  "orig_nbformat": 4
 },
 "nbformat": 4,
 "nbformat_minor": 2
}
